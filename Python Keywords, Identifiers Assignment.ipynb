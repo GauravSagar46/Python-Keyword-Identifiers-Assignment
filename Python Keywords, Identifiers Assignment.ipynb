{
 "cells": [
  {
   "cell_type": "code",
   "execution_count": 1,
   "id": "8a96f3ee-0557-41a1-8332-c9b647226438",
   "metadata": {},
   "outputs": [],
   "source": [
    "#Q.1 Explain the significance of Python keywords and provide examples of five keywords"
   ]
  },
  {
   "cell_type": "markdown",
   "id": "32cfeb52-016b-4376-906d-9818f7cf6950",
   "metadata": {},
   "source": [
    "Python keywords are reserved words that have predefined meanings. We cannot use keywords as variable. They play a significant role in defining the syntax and structure of Python code. Python keywords make the code more readable and self-explanatory. "
   ]
  },
  {
   "cell_type": "markdown",
   "id": "db1d685e-6066-4bbc-81e0-76bbf8a2ce4b",
   "metadata": {},
   "source": [
    "Examples"
   ]
  },
  {
   "cell_type": "code",
   "execution_count": 1,
   "id": "e49037ba-487f-4227-a01a-f480bcbbf88a",
   "metadata": {},
   "outputs": [],
   "source": [
    "#1 is"
   ]
  },
  {
   "cell_type": "code",
   "execution_count": 2,
   "id": "8cebaa34-5a32-4e07-91a1-e9d34b85af8d",
   "metadata": {},
   "outputs": [],
   "source": [
    "a = 10"
   ]
  },
  {
   "cell_type": "code",
   "execution_count": 3,
   "id": "e0898c78-73ef-4a82-a22e-cf0323cc8318",
   "metadata": {},
   "outputs": [],
   "source": [
    "b = 7"
   ]
  },
  {
   "cell_type": "code",
   "execution_count": 5,
   "id": "39595cad-cb01-4dde-9b89-ba0dbd141146",
   "metadata": {},
   "outputs": [
    {
     "data": {
      "text/plain": [
       "False"
      ]
     },
     "execution_count": 5,
     "metadata": {},
     "output_type": "execute_result"
    }
   ],
   "source": [
    "a is b"
   ]
  },
  {
   "cell_type": "code",
   "execution_count": 6,
   "id": "44b4bef7-d11d-43db-8021-e5c846be12cf",
   "metadata": {},
   "outputs": [],
   "source": [
    "#2 in"
   ]
  },
  {
   "cell_type": "code",
   "execution_count": 7,
   "id": "a79a71a2-6134-4d0d-bbe5-89e78ce05704",
   "metadata": {},
   "outputs": [],
   "source": [
    "c = [\"Gaurav\", \"Dev\", \"Abhishek\"]"
   ]
  },
  {
   "cell_type": "code",
   "execution_count": 8,
   "id": "8d6539cc-7b88-452e-89e1-6dd9e437403d",
   "metadata": {},
   "outputs": [
    {
     "data": {
      "text/plain": [
       "True"
      ]
     },
     "execution_count": 8,
     "metadata": {},
     "output_type": "execute_result"
    }
   ],
   "source": [
    "\"Dev\" in c"
   ]
  },
  {
   "cell_type": "code",
   "execution_count": 9,
   "id": "1eb9015f-842c-4936-8623-a6dbd4bb7c31",
   "metadata": {},
   "outputs": [
    {
     "data": {
      "text/plain": [
       "False"
      ]
     },
     "execution_count": 9,
     "metadata": {},
     "output_type": "execute_result"
    }
   ],
   "source": [
    "\"Ved\" in c"
   ]
  },
  {
   "cell_type": "code",
   "execution_count": 10,
   "id": "ec637b86-7cc6-4339-9586-14e9c97f0da4",
   "metadata": {},
   "outputs": [],
   "source": [
    "#3 if"
   ]
  },
  {
   "cell_type": "code",
   "execution_count": 12,
   "id": "16f38d4a-38fd-46c6-9edc-2179ba7dca34",
   "metadata": {},
   "outputs": [],
   "source": [
    "x = 10"
   ]
  },
  {
   "cell_type": "code",
   "execution_count": 13,
   "id": "9126096f-fe00-48dc-9b27-3eeb3cffb331",
   "metadata": {},
   "outputs": [],
   "source": [
    "is_positive = x if x>=0 else False"
   ]
  },
  {
   "cell_type": "code",
   "execution_count": 14,
   "id": "2596bd0c-b674-417b-a222-58db54c1d8d1",
   "metadata": {},
   "outputs": [
    {
     "name": "stdout",
     "output_type": "stream",
     "text": [
      "10\n"
     ]
    }
   ],
   "source": [
    "print(is_positive)"
   ]
  },
  {
   "cell_type": "code",
   "execution_count": 16,
   "id": "f3195aef-04e4-49fc-9829-a93582fe4890",
   "metadata": {},
   "outputs": [],
   "source": [
    "#4 and"
   ]
  },
  {
   "cell_type": "code",
   "execution_count": 17,
   "id": "7871d4c1-2560-4e60-a0d1-2665b759d3b3",
   "metadata": {},
   "outputs": [
    {
     "name": "stdout",
     "output_type": "stream",
     "text": [
      "a is a positive even number\n"
     ]
    }
   ],
   "source": [
    "a = 20 \n",
    "if a >0 and a % 2==0:\n",
    "    print(\"a is a positive even number\")"
   ]
  },
  {
   "cell_type": "code",
   "execution_count": 18,
   "id": "3048142c-b881-4de0-9547-c5884fbd7125",
   "metadata": {},
   "outputs": [],
   "source": [
    "#5 or"
   ]
  },
  {
   "cell_type": "code",
   "execution_count": 19,
   "id": "4dd91771-9248-4423-bea9-d8e4de1fcdf8",
   "metadata": {},
   "outputs": [
    {
     "name": "stdout",
     "output_type": "stream",
     "text": [
      "b is either negative or an even number\n"
     ]
    }
   ],
   "source": [
    "b = 20\n",
    "if b <0 or b % 2==0:\n",
    "    print(\"b is either negative or an even number\")"
   ]
  },
  {
   "cell_type": "code",
   "execution_count": 20,
   "id": "143b66b7-e736-447c-aa37-dd33dfef2a0b",
   "metadata": {},
   "outputs": [],
   "source": [
    "#Q.2 Describe the rules for defining identifiers in Python and provide an example"
   ]
  },
  {
   "cell_type": "markdown",
   "id": "c14df45f-73da-4286-a0f5-4c638022459e",
   "metadata": {
    "tags": []
   },
   "source": [
    "Identifiers are names given to variables, functions, classes, modules, etc. Identifiers follow certain rules for naming conventions.\n",
    "# Rules for defining identifiers\n",
    "1. They should not be start with a digit.\n",
    "2. They are case sensitive.\n",
    "3. We cannot use keywords as identifiers."
   ]
  },
  {
   "cell_type": "code",
   "execution_count": 1,
   "id": "a137545d-cd12-4285-8c10-f4688ceca80e",
   "metadata": {},
   "outputs": [],
   "source": [
    "#Example"
   ]
  },
  {
   "cell_type": "code",
   "execution_count": 1,
   "id": "444cbaa0-1b19-4d0d-9e1c-df28b16aa64a",
   "metadata": {},
   "outputs": [],
   "source": [
    "my_variable = 10"
   ]
  },
  {
   "cell_type": "code",
   "execution_count": 2,
   "id": "17693e4b-ef8e-4d02-b0f9-68d87b2f3af4",
   "metadata": {},
   "outputs": [],
   "source": [
    "_my_variable = 20"
   ]
  },
  {
   "cell_type": "code",
   "execution_count": 3,
   "id": "6e487fc8-c8e5-4868-b9ca-051cb4890611",
   "metadata": {},
   "outputs": [],
   "source": [
    "_myvariable = 30"
   ]
  },
  {
   "cell_type": "code",
   "execution_count": 4,
   "id": "d73ef890-eb50-4bfa-983d-694891e4eec6",
   "metadata": {},
   "outputs": [],
   "source": [
    "#Q.3 What are comments in Python, and why are they useful? Provide an example."
   ]
  },
  {
   "cell_type": "markdown",
   "id": "7109b562-7d57-4fd0-ad46-911250075567",
   "metadata": {},
   "source": [
    "Comments are annotations within the code that are ignored by the Python interpreter. \n",
    "Comments in Python are preceded by the '#' symbol. They are used to provide additional information about the code for developers and are not executed when the program runs."
   ]
  },
  {
   "cell_type": "code",
   "execution_count": 5,
   "id": "8e1a5501-253a-49dc-9ffb-60b067beab28",
   "metadata": {},
   "outputs": [],
   "source": [
    "#Example"
   ]
  },
  {
   "cell_type": "code",
   "execution_count": 6,
   "id": "d7916477-62ab-4308-abd4-afe82e840ed7",
   "metadata": {},
   "outputs": [],
   "source": [
    "#My name is gaurav\n",
    "#I'm learning python\n",
    "#from pwskills"
   ]
  },
  {
   "cell_type": "code",
   "execution_count": null,
   "id": "2bde0077-7588-4e45-8c1f-850052404057",
   "metadata": {},
   "outputs": [
    {
     "data": {
      "text/plain": [
       "'\\nthis is\\na multiline \\ncomment\\n'"
      ]
     },
     "execution_count": 7,
     "metadata": {},
     "output_type": "execute_result"
    }
   ],
   "source": [
    "\"\"\"\n",
    "this is\n",
    "a multiline \n",
    "comment\n",
    "\"\"\""
   ]
  },
  {
   "cell_type": "code",
   "execution_count": 8,
   "id": "9f1c5317-db46-4068-9b27-c6318ce82fee",
   "metadata": {},
   "outputs": [],
   "source": [
    "#uses"
   ]
  },
  {
   "cell_type": "markdown",
   "id": "46723199-f51b-4aaf-8f4a-b66e53e6e12b",
   "metadata": {},
   "source": [
    "Comments are useful for Documentation, clarification, TODOs and FIXMEs."
   ]
  },
  {
   "cell_type": "markdown",
   "id": "32495b7e-9d58-4aad-b433-c28203d4121e",
   "metadata": {},
   "source": [
    "Documentation: Comments can be used to explain the purpose of variables, functions, classes, and sections of code. They help other developers understand the code more easily and make it easier to maintain and modify in the future.\n",
    "\n",
    "Clarification: Comments can clarify complex or obscure parts of the code, making it easier for developers to follow the logic and understand what each part of the code is doing.\n",
    "\n",
    "TODOs and FIXMEs: Comments can be used to mark areas of the code that need further attention or improvement."
   ]
  },
  {
   "cell_type": "code",
   "execution_count": 9,
   "id": "595ebc76-a8c1-4dc9-b4ef-8cddb6f2106d",
   "metadata": {},
   "outputs": [],
   "source": [
    "#Q.4 Why is proper indentation important in Python?"
   ]
  },
  {
   "cell_type": "markdown",
   "id": "6ac02204-b03b-4299-8c66-19597656c0e9",
   "metadata": {},
   "source": [
    "Proper indentation is crucial because it defines the structure and scope of code blocks. Indentation is used to indicate the hierarchy and nesting of code blocks, such as those within functions, loops, conditional statements, and classes."
   ]
  },
  {
   "cell_type": "code",
   "execution_count": 11,
   "id": "98dae2d7-66be-45a5-9ce4-cd009535217d",
   "metadata": {},
   "outputs": [],
   "source": [
    "#Example"
   ]
  },
  {
   "cell_type": "code",
   "execution_count": 12,
   "id": "775ee63b-0aa9-4539-9a3f-102491dd3a08",
   "metadata": {},
   "outputs": [],
   "source": [
    "#correct identation"
   ]
  },
  {
   "cell_type": "code",
   "execution_count": 13,
   "id": "9eff8371-643c-4220-89f1-b9c1f9016e30",
   "metadata": {},
   "outputs": [
    {
     "name": "stdout",
     "output_type": "stream",
     "text": [
      "greater\n"
     ]
    }
   ],
   "source": [
    "if 3>2:\n",
    "    print(\"greater\")"
   ]
  },
  {
   "cell_type": "code",
   "execution_count": 14,
   "id": "0b1876f4-7be5-4329-b86e-f04d1f0a03bf",
   "metadata": {},
   "outputs": [],
   "source": [
    "#incorrect identation"
   ]
  },
  {
   "cell_type": "code",
   "execution_count": 15,
   "id": "83c3f1ba-a9a3-44dd-9482-253eda286404",
   "metadata": {},
   "outputs": [
    {
     "ename": "IndentationError",
     "evalue": "expected an indented block after 'if' statement on line 1 (2651385452.py, line 2)",
     "output_type": "error",
     "traceback": [
      "\u001b[0;36m  Cell \u001b[0;32mIn[15], line 2\u001b[0;36m\u001b[0m\n\u001b[0;31m    print(\"greater\")\u001b[0m\n\u001b[0m    ^\u001b[0m\n\u001b[0;31mIndentationError\u001b[0m\u001b[0;31m:\u001b[0m expected an indented block after 'if' statement on line 1\n"
     ]
    }
   ],
   "source": [
    "if 5>3:\n",
    "print(\"greater\")"
   ]
  },
  {
   "cell_type": "markdown",
   "id": "7c0925a4-4b94-4522-b2fc-57a73ecb449f",
   "metadata": {},
   "source": [
    "In the incorrect example, the print statement is not properly indented under the if statement, leading to a syntax error. In the correct example, the print statement is indented with four spaces under the if statement, following the proper indentation convention in Python."
   ]
  },
  {
   "cell_type": "code",
   "execution_count": 16,
   "id": "f3cf6d74-bfea-460f-b9e9-ccb96415fb27",
   "metadata": {},
   "outputs": [],
   "source": [
    "#Q.5 What happens if indentation is incorrect in Python?"
   ]
  },
  {
   "cell_type": "markdown",
   "id": "3b8ca92e-a5c0-44d0-8d30-f583850a6534",
   "metadata": {},
   "source": [
    "If the indentation is incorrect, it can lead to various issues, including syntax errors and logical errors in the code."
   ]
  },
  {
   "cell_type": "code",
   "execution_count": 17,
   "id": "f0fe489f-27f4-4f20-908f-409610b17a97",
   "metadata": {},
   "outputs": [],
   "source": [
    "#Q.6 Differentiate between expression and statement in Python with examples."
   ]
  },
  {
   "cell_type": "markdown",
   "id": "6795223f-cb41-40f6-a08f-2ab49f62a946",
   "metadata": {},
   "source": [
    "Expressions and Statements are fundamental elements of the language, but they serve different purposes and have distinct characteristics."
   ]
  },
  {
   "cell_type": "markdown",
   "id": "95e72a96-0b36-435d-9a68-08fad1c76dac",
   "metadata": {},
   "source": [
    "# Expression\n",
    "\n",
    "# 1.An expression is a combination of values, variables, operators, and function calls that yields a result.\n",
    "# 2.Expressions can be thought of as anything that can be evaluated to produce a value.\n",
    "# 3.Examples of expressions include arithmetic expressions, function calls, comparisons, and more.\n",
    "\n",
    "# Statement\n",
    "\n",
    "# 1.A statement is a complete unit of code that performs an action or a task.\n",
    "# 2.Statements typically represent commands that Python interpreter can execute.\n",
    "# 3.Examples of statements include assignment statements, conditional statements, loop statements, import statements, and more."
   ]
  },
  {
   "cell_type": "code",
   "execution_count": 18,
   "id": "3daedfb7-a8a8-4c73-8648-766bc9f027fb",
   "metadata": {},
   "outputs": [],
   "source": [
    "#Example>>> # Expression"
   ]
  },
  {
   "cell_type": "code",
   "execution_count": 19,
   "id": "4f0d9641-6c64-43ef-ae19-1b615ebe5fe1",
   "metadata": {},
   "outputs": [
    {
     "data": {
      "text/plain": [
       "5"
      ]
     },
     "execution_count": 19,
     "metadata": {},
     "output_type": "execute_result"
    }
   ],
   "source": [
    "2+3"
   ]
  },
  {
   "cell_type": "code",
   "execution_count": 21,
   "id": "d595751b-389e-4c2b-8ae4-6bacdbebb853",
   "metadata": {},
   "outputs": [
    {
     "data": {
      "text/plain": [
       "20"
      ]
     },
     "execution_count": 21,
     "metadata": {},
     "output_type": "execute_result"
    }
   ],
   "source": [
    "4*5"
   ]
  },
  {
   "cell_type": "code",
   "execution_count": 22,
   "id": "913e9c23-77ea-4797-86c5-c1a413c53a09",
   "metadata": {},
   "outputs": [
    {
     "data": {
      "text/plain": [
       "5.0"
      ]
     },
     "execution_count": 22,
     "metadata": {},
     "output_type": "execute_result"
    }
   ],
   "source": [
    "20/4"
   ]
  },
  {
   "cell_type": "code",
   "execution_count": null,
   "id": "520aa01f-1821-445a-9906-97f5ef2e78d5",
   "metadata": {},
   "outputs": [],
   "source": [
    "#Example>>> # Statement"
   ]
  },
  {
   "cell_type": "code",
   "execution_count": 24,
   "id": "6b0ebb54-f4a2-40f1-9ab8-b6cf606a9fd1",
   "metadata": {},
   "outputs": [],
   "source": [
    "x=10"
   ]
  },
  {
   "cell_type": "code",
   "execution_count": 25,
   "id": "07d3463f-ccc5-49dc-a7c7-23613c318b82",
   "metadata": {},
   "outputs": [
    {
     "name": "stdout",
     "output_type": "stream",
     "text": [
      "even\n"
     ]
    }
   ],
   "source": [
    "if (x%2==0):\n",
    "    print(\"even\")\n",
    "else:\n",
    "    print(\"odd\")"
   ]
  },
  {
   "cell_type": "code",
   "execution_count": null,
   "id": "18ff910b-b0df-47ee-a076-6cf5f2cf403d",
   "metadata": {},
   "outputs": [],
   "source": []
  }
 ],
 "metadata": {
  "kernelspec": {
   "display_name": "Python 3 (ipykernel)",
   "language": "python",
   "name": "python3"
  },
  "language_info": {
   "codemirror_mode": {
    "name": "ipython",
    "version": 3
   },
   "file_extension": ".py",
   "mimetype": "text/x-python",
   "name": "python",
   "nbconvert_exporter": "python",
   "pygments_lexer": "ipython3",
   "version": "3.10.8"
  }
 },
 "nbformat": 4,
 "nbformat_minor": 5
}
